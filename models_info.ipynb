{
 "cells": [
  {
   "cell_type": "code",
   "execution_count": 1,
   "id": "ee862f7b",
   "metadata": {},
   "outputs": [],
   "source": [
    "import joblib\n",
    "import tensorflow as tf\n",
    "from pathlib import Path"
   ]
  },
  {
   "cell_type": "code",
   "execution_count": 4,
   "id": "ada2682f",
   "metadata": {},
   "outputs": [],
   "source": [
    "model_path = Path(\"models/finetuned_model.keras\")"
   ]
  },
  {
   "cell_type": "code",
   "execution_count": 5,
   "id": "42d1b88f",
   "metadata": {},
   "outputs": [
    {
     "name": "stderr",
     "output_type": "stream",
     "text": [
      "c:\\Users\\Home\\AppData\\Local\\Programs\\Python\\Python312\\Lib\\site-packages\\keras\\src\\saving\\saving_lib.py:757: UserWarning: Skipping variable loading for optimizer 'adam', because it has 10 variables whereas the saved optimizer has 22 variables. \n",
      "  saveable.load_own_variables(weights_store.get(inner_path))\n"
     ]
    },
    {
     "name": "stdout",
     "output_type": "stream",
     "text": [
      "Model Type: CNN (.keras)\n",
      "Expected Input: Spectrogram image\n",
      "Model Input Shape: (None, 300, 400, 3)\n",
      "Height: 300, Width: 400, Channels: 3\n"
     ]
    }
   ],
   "source": [
    "if model_path.suffix == \".pkl\":\n",
    "    model_type = \"pkl\"\n",
    "    model = joblib.load(model_path)\n",
    "    print(\"Model Type: Traditional ML (.pkl)\")\n",
    "    print(\"Expected Input: A 2D feature array (e.g., MFCCs or tabular audio features)\")\n",
    "    print(\"Shape Example: (n_samples, n_features) like (1, 20) or (10, 30)\")\n",
    "\n",
    "elif model_path.suffix == \".keras\":\n",
    "    model_type = \"keras\"\n",
    "    model = tf.keras.models.load_model(model_path)\n",
    "    print(\"Model Type: CNN (.keras)\")\n",
    "    print(\"Expected Input: Spectrogram image\")\n",
    "    \n",
    "    input_shape = model.input_shape\n",
    "    print(f\"Model Input Shape: {input_shape}\")\n",
    "    \n",
    "    if len(input_shape) == 4:\n",
    "        _, h, w, c = input_shape\n",
    "        print(f\"Height: {h}, Width: {w}, Channels: {c}\")\n",
    "    else:\n",
    "        print(\"Unusual input shape — check your model architecture.\")\n",
    "        \n",
    "else:\n",
    "    print(\"Unsupported model type. Please use .pkl or .keras\")"
   ]
  },
  {
   "cell_type": "code",
   "execution_count": 6,
   "id": "0c3db2b3",
   "metadata": {},
   "outputs": [],
   "source": [
    "model_path = Path(\"models/logistic_regression.pkl\")"
   ]
  },
  {
   "cell_type": "code",
   "execution_count": 7,
   "id": "55dfa8f5",
   "metadata": {},
   "outputs": [
    {
     "name": "stdout",
     "output_type": "stream",
     "text": [
      "Model Type: Traditional ML (.pkl)\n",
      "Expected Input: A 2D feature array (e.g., MFCCs or tabular audio features)\n",
      "Shape Example: (n_samples, n_features) like (1, 20) or (10, 30)\n"
     ]
    }
   ],
   "source": [
    "if model_path.suffix == \".pkl\":\n",
    "    model_type = \"pkl\"\n",
    "    model = joblib.load(model_path)\n",
    "    print(\"Model Type: Traditional ML (.pkl)\")\n",
    "    print(\"Expected Input: A 2D feature array (e.g., MFCCs or tabular audio features)\")\n",
    "    print(\"Shape Example: (n_samples, n_features) like (1, 20) or (10, 30)\")\n",
    "\n",
    "elif model_path.suffix == \".keras\":\n",
    "    model_type = \"keras\"\n",
    "    model = tf.keras.models.load_model(model_path)\n",
    "    print(\"Model Type: CNN (.keras)\")\n",
    "    print(\"Expected Input: Spectrogram image\")\n",
    "    \n",
    "    input_shape = model.input_shape\n",
    "    print(f\"Model Input Shape: {input_shape}\")\n",
    "    \n",
    "    if len(input_shape) == 4:\n",
    "        _, h, w, c = input_shape\n",
    "        print(f\"Height: {h}, Width: {w}, Channels: {c}\")\n",
    "    else:\n",
    "        print(\"Unusual input shape — check your model architecture.\")\n",
    "        \n",
    "else:\n",
    "    print(\"Unsupported model type. Please use .pkl or .keras\")"
   ]
  },
  {
   "cell_type": "code",
   "execution_count": null,
   "id": "1e97c725",
   "metadata": {},
   "outputs": [],
   "source": []
  }
 ],
 "metadata": {
  "kernelspec": {
   "display_name": "Python 3",
   "language": "python",
   "name": "python3"
  },
  "language_info": {
   "codemirror_mode": {
    "name": "ipython",
    "version": 3
   },
   "file_extension": ".py",
   "mimetype": "text/x-python",
   "name": "python",
   "nbconvert_exporter": "python",
   "pygments_lexer": "ipython3",
   "version": "3.12.0"
  }
 },
 "nbformat": 4,
 "nbformat_minor": 5
}
